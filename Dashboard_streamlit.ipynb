{
  "nbformat": 4,
  "nbformat_minor": 0,
  "metadata": {
    "colab": {
      "name": "Dashboard_streamlit1.ipynb",
      "provenance": [],
      "collapsed_sections": [],
      "authorship_tag": "ABX9TyP3I8E6JVYg/OM5ziueCN61",
      "include_colab_link": true
    },
    "kernelspec": {
      "display_name": "Python 3",
      "name": "python3"
    },
    "language_info": {
      "name": "python"
    }
  },
  "cells": [
    {
      "cell_type": "markdown",
      "metadata": {
        "id": "view-in-github",
        "colab_type": "text"
      },
      "source": [
        "<a href=\"https://colab.research.google.com/github/PatricRc/Finance_Dashboard/blob/main/Dashboard_streamlit.ipynb\" target=\"_parent\"><img src=\"https://colab.research.google.com/assets/colab-badge.svg\" alt=\"Open In Colab\"/></a>"
      ]
    },
    {
      "cell_type": "code",
      "metadata": {
        "colab": {
          "base_uri": "https://localhost:8080/"
        },
        "id": "75UhKR_neydj",
        "outputId": "27d31109-e10e-4373-88f2-6a597bc6dbd4"
      },
      "source": [
        "!pip install streamlit -q"
      ],
      "execution_count": null,
      "outputs": [
        {
          "name": "stdout",
          "output_type": "stream",
          "text": [
            "\u001b[K     |████████████████████████████████| 9.1 MB 4.8 MB/s \n",
            "\u001b[K     |████████████████████████████████| 76 kB 2.9 MB/s \n",
            "\u001b[K     |████████████████████████████████| 178 kB 28.0 MB/s \n",
            "\u001b[K     |████████████████████████████████| 180 kB 10.3 MB/s \n",
            "\u001b[K     |████████████████████████████████| 111 kB 41.7 MB/s \n",
            "\u001b[K     |████████████████████████████████| 4.3 MB 12.7 MB/s \n",
            "\u001b[K     |████████████████████████████████| 63 kB 1.2 MB/s \n",
            "\u001b[K     |████████████████████████████████| 126 kB 59.3 MB/s \n",
            "\u001b[K     |████████████████████████████████| 791 kB 41.2 MB/s \n",
            "\u001b[K     |████████████████████████████████| 374 kB 31.8 MB/s \n",
            "\u001b[?25h  Building wheel for pympler (setup.py) ... \u001b[?25l\u001b[?25hdone\n",
            "  Building wheel for blinker (setup.py) ... \u001b[?25l\u001b[?25hdone\n",
            "\u001b[31mERROR: pip's dependency resolver does not currently take into account all the packages that are installed. This behaviour is the source of the following dependency conflicts.\n",
            "jupyter-console 5.2.0 requires prompt-toolkit<2.0.0,>=1.0.0, but you have prompt-toolkit 3.0.23 which is incompatible.\n",
            "google-colab 1.0.0 requires ipykernel~=4.10, but you have ipykernel 6.6.0 which is incompatible.\n",
            "google-colab 1.0.0 requires ipython~=5.5.0, but you have ipython 7.30.0 which is incompatible.\u001b[0m\n"
          ]
        }
      ]
    },
    {
      "cell_type": "code",
      "metadata": {
        "colab": {
          "base_uri": "https://localhost:8080/"
        },
        "id": "oYx3v5bUgqOB",
        "outputId": "2aaff5ea-5da4-49b0-aec3-d4e67be273d0"
      },
      "source": [
        "!pip install yfinance -q"
      ],
      "execution_count": null,
      "outputs": [
        {
          "name": "stdout",
          "output_type": "stream",
          "text": [
            "\u001b[K     |████████████████████████████████| 6.3 MB 7.3 MB/s \n",
            "\u001b[?25h"
          ]
        }
      ]
    },
    {
      "cell_type": "code",
      "metadata": {
        "id": "QTFNCnu3ILhm"
      },
      "source": [
        "!pip install pycoingecko -q"
      ],
      "execution_count": null,
      "outputs": []
    },
    {
      "cell_type": "code",
      "metadata": {
        "colab": {
          "base_uri": "https://localhost:8080/"
        },
        "id": "dAp2qz59e14K",
        "outputId": "6d789eef-4b41-48d8-8eb5-d933b7c3f33b"
      },
      "source": [
        "%%writefile app.py\n",
        "import pandas_datareader.data as reader\n",
        "import datetime as dt\n",
        "import matplotlib.pyplot as plt\n",
        "import seaborn as sns\n",
        "import yfinance as yf\n",
        "import numpy as np\n",
        "import streamlit as st\n",
        "from keras.models import load_model\n",
        "import pandas as pd\n",
        "import requests\n",
        "import tweepy\n",
        "import config #archivo creado con los tokens de acceso a twitter\n",
        "from pycoingecko import CoinGeckoAPI\n",
        "from datetime import datetime, timedelta\n",
        "cg = CoinGeckoAPI()\n",
        "\n",
        "\n",
        "dashboards = st.sidebar.selectbox('Escoge un dashboard', ('Analisis financiero', 'Graficas', 'Tweepy', 'Calculadora', 'Patrones', 'Modelo de predicción'))\n",
        "st.title(dashboards)\n",
        "\n",
        "auth = tweepy.OAuthHandler(config.TWITTER_CONSUMER_KEY, config.TWITTER_CONSUMER_SECRET)\n",
        "auth.set_access_token(config.TWITTER_ACCESS_TOKEN, config.TWITTER_ACCESS_TOKEN_SECRET)\n",
        "api = tweepy.API(auth)\n",
        "\n",
        "\n",
        "if dashboards == 'Analisis financiero':\n",
        "    st.subheader('Este es el dashboard con analisis financieros')\n",
        "    user_input = st.text_input('Selecciona tu activo', 'TSLA')\n",
        "\n",
        "    start = st.date_input('Fecha inicial', value = pd.to_datetime('2021-01-01'))\n",
        "    end = st.date_input('Fecha final', value = pd.to_datetime('today'))\n",
        "      \n",
        "    st.header('Tabla de datos de {}'.format(user_input))\n",
        "    df2 = yf.download(user_input,start,end).dropna()\n",
        "    st.dataframe(df2.tail(50))\n",
        "      \n",
        "    def relativeret(df):\n",
        "        rel = df.pct_change()\n",
        "        cumret = (1+rel).cumprod()-1\n",
        "        cumret = cumret.fillna(0)\n",
        "        return cumret\n",
        "\n",
        "    df = relativeret(yf.download(user_input, start, end)['Adj Close'])\n",
        "    \n",
        "    st.header('Analisis descriptivo de {}'.format(user_input))\n",
        "    st.write(df.describe())\n",
        "\n",
        "if dashboards == 'Graficas':\n",
        "    st.header('Este es el dashboard con las graficas')\n",
        "    user_input = st.text_input('Selecciona tu activo', 'TSLA')\n",
        "    start = st.date_input('Fecha inicial', value = pd.to_datetime('2021-01-01'))\n",
        "    end = st.date_input('Fecha final', value = pd.to_datetime('today'))\n",
        "    \n",
        "    def relativeret(df):\n",
        "      rel = df.pct_change()\n",
        "      cumret = (1+rel).cumprod()-1\n",
        "      cumret = cumret.fillna(0)\n",
        "      return cumret\n",
        "    \n",
        "    df = relativeret(yf.download(user_input, start, end)['Adj Close'])\n",
        "    df2 = yf.download(user_input,start,end).dropna()\n",
        "\n",
        "    st.subheader('Retorno acumulado de {}'.format(user_input))\n",
        "    st.line_chart(df)\n",
        "  \n",
        "    st.subheader('Precio de cierre vs Tiempo de {}'.format(user_input))\n",
        "    fig = plt.figure(figsize= (12,6))\n",
        "    plt.plot(df2['Adj Close'])\n",
        "    st.pyplot(fig)\n",
        "\n",
        "    st.subheader('Precio de cierre vs Tiempo con 100MA de {}'.format(user_input))\n",
        "    ma100 = df2['Adj Close'].rolling(100).mean()\n",
        "    fig = plt.figure(figsize= (12,6))\n",
        "    plt.plot(ma100)\n",
        "    plt.plot(df2['Adj Close'])\n",
        "    st.pyplot(fig)\n",
        "\n",
        "    st.subheader('Precio de cierre vs Tiempo con 200MA de {}'.format(user_input))\n",
        "    ma100 = df2['Adj Close'].rolling(100).mean()\n",
        "    ma200 = df2['Adj Close'].rolling(200).mean()\n",
        "    fig = plt.figure(figsize= (12,6))\n",
        "    plt.plot(ma100)\n",
        "    plt.plot(ma200)\n",
        "    plt.plot(df2['Adj Close'])\n",
        "    st.pyplot(fig)\n",
        "\n",
        "\n",
        "if dashboards == 'Tweepy':\n",
        "    st.subheader('Este es el dashboard con analisis de principales tweets')\n",
        "    tweets = api.user_timeline('elonmusk')\n",
        "    st.write(tweets.text)\n",
        "\n",
        "if dashboards == 'Modelo de predicción':\n",
        "    st.subheader('Predicción de precio usando modelo de ML')\n",
        "    user_input = st.text_input('Selecciona tu activo', 'TSLA')\n",
        "\n",
        "    start = st.date_input('Fecha inicial', value = pd.to_datetime('2021-01-01'))\n",
        "    end = st.date_input('Fecha final', value = pd.to_datetime('today'))\n",
        "    \n",
        "    def relativeret(df):\n",
        "      rel = df.pct_change()\n",
        "      cumret = (1+rel).cumprod()-1\n",
        "      cumret = cumret.fillna(0)\n",
        "      return cumret\n",
        "    \n",
        "    df = relativeret(yf.download(user_input, start, end)['Adj Close'])\n",
        "    df2 = yf.download(user_input,start,end).dropna()\n",
        "    df_entrenado = pd.DataFrame(df2['Adj Close'][0:int(len(df)*0.70)])\n",
        "    df_prueba = pd.DataFrame(df2['Adj Close'][int(len(df)*0.70) : int(len(df))])\n",
        "\n",
        "    from sklearn.preprocessing import MinMaxScaler\n",
        "    scaler = MinMaxScaler(feature_range=(0,1))\n",
        "\n",
        "    df_entrenado_array = scaler.fit_transform(df_entrenado)\n",
        "# cargar modelo de ML\n",
        "    model = load_model('modelo_keras.h5')\n",
        "\n",
        "# Prueba del modelo de ML\n",
        "    pasados_100d = df_entrenado.tail(100)\n",
        "    df_final = pasados_100d.append(df_prueba, ignore_index=True)\n",
        "    input_df = scaler.fit_transform(df_final)\n",
        "\n",
        "    x_prueba = []\n",
        "    y_prueba = []\n",
        "\n",
        "    for i in range(100,input_df.shape[0]):\n",
        "        x_prueba.append(input_df[i-100: i])\n",
        "        y_prueba.append(input_df[i,0])\n",
        "\n",
        "    x_prueba, y_prueba = np.array(x_prueba), np.array(y_prueba)\n",
        "    y_predicted = model.predict(x_prueba)\n",
        "    scaler = scaler.scale_\n",
        "\n",
        "    scale_factor = 1/scaler[0]\n",
        "    y_predicted = y_predicted * scale_factor\n",
        "    y_prueba = y_prueba * scale_factor\n",
        "\n",
        "    st.subheader('Data Precio Prediccion')\n",
        "    st.dataframe(y_predicted)\n",
        "\n",
        "# Grafico del modelo ML\n",
        "    st.subheader('Precio Prediccion vs Original')\n",
        "    fig2 = plt.figure(figsize=(12,6))\n",
        "    plt.plot(y_prueba, 'b', label='Precio original')\n",
        "    plt.plot(y_predicted, 'g', label='Precio pronosticado')\n",
        "    plt.xlabel('Año')\n",
        "    plt.ylabel('Precio')\n",
        "    plt.legend()\n",
        "    st.pyplot(fig2)\n",
        "\n",
        "if dashboards == 'Calculadora':\n",
        "    st.subheader('Esta es la calculadora de ahorro crypto')\n",
        "    st.write(\"\"\"\n",
        "    # Bitcoin FOMO Calculator\n",
        "    Use the option below to set your parameters for:\n",
        "    Usa las opciones para elegir los parametros:\n",
        "    - Fecha en la que quisieras haber comprado $BTC\n",
        "    - Cantidad en $ que hubieras invertido \n",
        "    \"\"\")\n",
        "    st.write('---')\n",
        "    \n",
        "    st.image('btc-nft.jpeg', use_column_width=True)\n",
        "    \n",
        "    #Cargar datos\n",
        "    btc_current = cg.get_price(ids = 'bitcoin', vs_currencies='usd')['bitcoin']['usd']    \n",
        "    #Giving Choices\n",
        "    st.write('''# Escoge fecha y monto $''')\n",
        "    today = datetime.utcnow().date()\n",
        "    previous_day = today - timedelta(days=1)\n",
        "    HIST_DATE = st.date_input(\"Fecha: \", value=previous_day, min_value=datetime(2014,1,1), max_value=previous_day)\n",
        "    ORG_USD = st.number_input(\"Cantidad en $: \", min_value=1, max_value=999999999)\n",
        "\n",
        "    #Formateando datos de fecha\n",
        "    HIST_DATE_REFORMAT = HIST_DATE.strftime(\"%d-%m-%Y\")\n",
        "    HIST_DATE_datetime = datetime.strptime(HIST_DATE_REFORMAT,\"%d-%m-%Y\")\n",
        "    btc_historic = cg.get_coin_history_by_id(id='bitcoin', vs_currencies='usd', date=HIST_DATE_REFORMAT)['market_data']['current_price']['usd']\n",
        "\n",
        "    btc_historic = round(btc_historic, 5)\n",
        "\n",
        "    st.write('''# Results''')\n",
        "    st.write('''## Historic Analysis''')\n",
        "    st.write(\"You would have originally bought: ***{:,.2f}*** $BTC\".format(round((ORG_USD/btc_historic),5)))\n",
        "    st.write(\"At a price of ***{:,.9f}*** per $BTC\".format(btc_historic))\n",
        "    st.write(\" \")\n",
        "\n",
        "    st.write('''## Present Effects''')\n",
        "    total_btc = ORG_USD/btc_historic\n",
        "    current_USD = total_btc * btc_current\n",
        "    perc_change = (current_USD - ORG_USD)/(ORG_USD)*100\n",
        "    usd_diff = current_USD - ORG_USD\n"
      ],
      "execution_count": null,
      "outputs": [
        {
          "name": "stdout",
          "output_type": "stream",
          "text": [
            "Writing app.py\n"
          ]
        }
      ]
    },
    {
      "cell_type": "code",
      "metadata": {
        "colab": {
          "background_save": true,
          "base_uri": "https://localhost:8080/"
        },
        "id": "6sUwW74xfkrC",
        "outputId": "24d25ece-dda3-4bbe-b359-618f71356689"
      },
      "source": [
        "!streamlit run app.py & npx localtunnel --port 8501"
      ],
      "execution_count": null,
      "outputs": [
        {
          "name": "stdout",
          "output_type": "stream",
          "text": [
            "\u001b[0m\n",
            "\u001b[34m\u001b[1m  You can now view your Streamlit app in your browser.\u001b[0m\n",
            "\u001b[0m\n",
            "\u001b[34m  Network URL: \u001b[0m\u001b[1mhttp://172.28.0.2:8501\u001b[0m\n",
            "\u001b[34m  External URL: \u001b[0m\u001b[1mhttp://104.196.184.235:8501\u001b[0m\n",
            "\u001b[0m\n",
            "\u001b[K\u001b[?25hnpx: installed 22 in 4.985s\n",
            "your url is: https://weak-yak-27.loca.lt\n",
            "2021-12-01 16:44:39.340 Traceback (most recent call last):\n",
            "  File \"/usr/local/lib/python3.7/dist-packages/streamlit/script_runner.py\", line 354, in _run_script\n",
            "    exec(code, module.__dict__)\n",
            "  File \"/content/app.py\", line 12, in <module>\n",
            "    import config #archivo creado con los tokens de acceso a twitter\n",
            "ModuleNotFoundError: No module named 'config'\n",
            "\n"
          ]
        }
      ]
    }
  ]
}
